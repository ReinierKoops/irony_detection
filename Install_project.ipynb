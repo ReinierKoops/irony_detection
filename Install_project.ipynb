{
 "cells": [
  {
   "cell_type": "markdown",
   "metadata": {},
   "source": [
    "## Irony Detection in English Tweets \n",
    "Code and the data used with regard to experiments in the paper 'WLV at SemEval-2018 Task 3:  Dissecting Tweets in Search of Irony'.\n",
    "\n",
    "Dependencies:\n",
    "\n",
    "* Ekphrasis (`pip install ekphrasis`)\n",
    "* Stanford CoreNLP \n",
    "* Pycore NLP, python wrapper CoreNLP(`pip install pycorenlp`)\n",
    "* Sklearn / scikit-learn (`pip install scikit-learn`)\n",
    "* NLTK (`pip install nltk`)\n",
    "\t* nltk.download('wordnet')\n",
    "\t* nltk.download('averaged\\_perceptron\\_tagger')\n",
    "\t* nltk.download('sentiwordnet')\n",
    "* Gensim (`pip install gensim`)"
   ]
  },
  {
   "cell_type": "code",
   "execution_count": null,
   "metadata": {},
   "outputs": [],
   "source": [
    "pip install ekphrasis"
   ]
  },
  {
   "cell_type": "code",
   "execution_count": null,
   "metadata": {},
   "outputs": [],
   "source": [
    "pip install pycorenlp"
   ]
  },
  {
   "cell_type": "code",
   "execution_count": null,
   "metadata": {},
   "outputs": [],
   "source": [
    "pip install scikit-learn"
   ]
  },
  {
   "cell_type": "code",
   "execution_count": null,
   "metadata": {},
   "outputs": [],
   "source": [
    "pip install nltk"
   ]
  },
  {
   "cell_type": "code",
   "execution_count": null,
   "metadata": {},
   "outputs": [],
   "source": [
    "pip install gensim"
   ]
  },
  {
   "cell_type": "code",
   "execution_count": null,
   "metadata": {},
   "outputs": [],
   "source": [
    "# Get the packages \n",
    "import nltk\n",
    "nltk.download('wordnet')\n",
    "nltk.download('averaged_perceptron_tagger')\n",
    "nltk.download('sentiwordnet')\n",
    "\n",
    "# Set local to US\n",
    "import locale\n",
    "locale.setlocale(locale.LC_ALL, 'en_US.UTF-8')"
   ]
  },
  {
   "cell_type": "markdown",
   "metadata": {},
   "source": [
    "# After this installation Kernel -> Restart Kernel..."
   ]
  },
  {
   "cell_type": "markdown",
   "metadata": {},
   "source": [
    "## Installation Stanford CoreNLP\n",
    "Install Stanford CoreNLP (Download CoreNLP 3.9.2: http://nlp.stanford.edu/software/stanford-corenlp-full-2018-10-05.zip)\n",
    " > - <b>Not necessary so far:</b>\n",
    " Get Stanford English (full) language model (2019-07-29: http://nlp.stanford.edu/software/stanford-english-corenlp-models-current.jar); more info: https://stanfordnlp.github.io/CoreNLP/model-zoo.html\n",
    "\n",
    "Get the wrapper for PycoreNLP\n",
    "The positive thing it seems is that PycoreNLP hasn't changed since 2016"
   ]
  },
  {
   "cell_type": "markdown",
   "metadata": {},
   "source": [
    "## Run Stanford CoreNLP\n",
    "- Before running; you need to open the zip \"Stanford_split.z01\"\n",
    "- Open commandline prompt, go to the folder which include the stanford CoreNLP (The locale that is set is US)\n",
    "\n",
    " > -  java -Duser.language=us-US -mx4g -cp \"*\" edu.stanford.nlp.pipeline.StanfordCoreNLPServer -annotators \"sentiment\" -port 9000 -timeout 30000\n",
    "\n",
    "in command line / terminal"
   ]
  },
  {
   "cell_type": "markdown",
   "metadata": {},
   "source": [
    "## Download twitter word2vec bin file\n",
    "\n",
    "Create an account for Kaggle and then download:\n",
    "https://www.kaggle.com/hachemsfar/cbigru/download/GS3dXKYLtZ6uACMEZkco%2Fversions%2FGhgBDWert6D1tpSRvor1%2Ffiles%2Fword2vec_twitter_model.bin?datasetVersionNumber=1\n",
    "\n",
    "This is a newer version and might give a different result (I didn't use it)\n",
    "https://drive.google.com/uc?export=download&confirm=Ig7p&id=1lw5Hr6Xw0G0bMT1ZllrtMqEgCTrM7dzc\n",
    "\n",
    "put it in <b>\"install_dependencies\"</b> folder (it's 4.9 gb; If I put it on github it would mean 50 packages or about 100mb to be uploaded to github, this is very slow)"
   ]
  }
 ],
 "metadata": {
  "kernelspec": {
   "display_name": "Python 3",
   "language": "python",
   "name": "python3"
  },
  "language_info": {
   "codemirror_mode": {
    "name": "ipython",
    "version": 3
   },
   "file_extension": ".py",
   "mimetype": "text/x-python",
   "name": "python",
   "nbconvert_exporter": "python",
   "pygments_lexer": "ipython3",
   "version": "3.7.6"
  }
 },
 "nbformat": 4,
 "nbformat_minor": 4
}
