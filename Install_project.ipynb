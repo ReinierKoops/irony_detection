{
 "cells": [
  {
   "cell_type": "markdown",
   "metadata": {},
   "source": [
    "## Irony Detection in English Tweets \n",
    "Code and the data used with regard to experiments in the paper 'WLV at SemEval-2018 Task 3:  Dissecting Tweets in Search of Irony'.\n",
    "\n",
    "Dependencies:\n",
    "\n",
    "* Ekphrasis (`pip install ekphrasis`)\n",
    "* Stanford CoreNLP \n",
    "* Sklearn \n",
    "* NLTK \n",
    "* Gensim \n",
    "\n",
    "If you use the code for your project, please cite the following paper (<a href=\"http://www.aclweb.org/anthology/S18-1090\">link</a> to PDF):\n",
    "\n",
    "```\n",
    "@inproceedings{rohanian2018wlv,\n",
    "  title={WLV at SemEval-2018 Task 3: Dissecting Tweets in Search of Irony},\n",
    "  author={Rohanian, Omid and Taslimipoor, Shiva and Evans, Richard and Mitkov, Ruslan},\n",
    "  booktitle={Proceedings of The 12th International Workshop on Semantic Evaluation},\n",
    "  pages={553--559},\n",
    "  year={2018}\n",
    "}\n",
    "```"
   ]
  },
  {
   "cell_type": "code",
   "execution_count": 2,
   "metadata": {},
   "outputs": [
    {
     "name": "stdout",
     "output_type": "stream",
     "text": [
      "Requirement already satisfied: ekphrasis in /usr/local/lib/python3.7/site-packages (0.5.1)\n",
      "Requirement already satisfied: ujson in /usr/local/lib/python3.7/site-packages (from ekphrasis) (1.35)\n",
      "Requirement already satisfied: colorama in /usr/local/lib/python3.7/site-packages (from ekphrasis) (0.4.3)\n",
      "Requirement already satisfied: tqdm in /usr/local/lib/python3.7/site-packages (from ekphrasis) (4.42.1)\n",
      "Requirement already satisfied: numpy in /usr/local/lib/python3.7/site-packages (from ekphrasis) (1.18.1)\n",
      "Requirement already satisfied: ftfy in /usr/local/lib/python3.7/site-packages (from ekphrasis) (5.7)\n",
      "Requirement already satisfied: nltk in /usr/local/lib/python3.7/site-packages (from ekphrasis) (3.4.5)\n",
      "Requirement already satisfied: termcolor in /usr/local/lib/python3.7/site-packages (from ekphrasis) (1.1.0)\n",
      "Requirement already satisfied: matplotlib in /usr/local/lib/python3.7/site-packages (from ekphrasis) (3.1.3)\n",
      "Requirement already satisfied: wcwidth in /usr/local/lib/python3.7/site-packages (from ftfy->ekphrasis) (0.1.8)\n",
      "Requirement already satisfied: six in /usr/local/lib/python3.7/site-packages (from nltk->ekphrasis) (1.14.0)\n",
      "Requirement already satisfied: cycler>=0.10 in /usr/local/lib/python3.7/site-packages (from matplotlib->ekphrasis) (0.10.0)\n",
      "Requirement already satisfied: kiwisolver>=1.0.1 in /usr/local/lib/python3.7/site-packages (from matplotlib->ekphrasis) (1.1.0)\n",
      "Requirement already satisfied: python-dateutil>=2.1 in /usr/local/lib/python3.7/site-packages (from matplotlib->ekphrasis) (2.8.1)\n",
      "Requirement already satisfied: pyparsing!=2.0.4,!=2.1.2,!=2.1.6,>=2.0.1 in /usr/local/lib/python3.7/site-packages (from matplotlib->ekphrasis) (2.4.6)\n",
      "Requirement already satisfied: setuptools in /usr/local/lib/python3.7/site-packages (from kiwisolver>=1.0.1->matplotlib->ekphrasis) (42.0.2)\n",
      "Note: you may need to restart the kernel to use updated packages.\n"
     ]
    }
   ],
   "source": [
    "pip install ekphrasis"
   ]
  },
  {
   "cell_type": "code",
   "execution_count": null,
   "metadata": {},
   "outputs": [],
   "source": []
  }
 ],
 "metadata": {
  "kernelspec": {
   "display_name": "Python 3",
   "language": "python",
   "name": "python3"
  },
  "language_info": {
   "codemirror_mode": {
    "name": "ipython",
    "version": 3
   },
   "file_extension": ".py",
   "mimetype": "text/x-python",
   "name": "python",
   "nbconvert_exporter": "python",
   "pygments_lexer": "ipython3",
   "version": "3.7.6"
  }
 },
 "nbformat": 4,
 "nbformat_minor": 4
}
