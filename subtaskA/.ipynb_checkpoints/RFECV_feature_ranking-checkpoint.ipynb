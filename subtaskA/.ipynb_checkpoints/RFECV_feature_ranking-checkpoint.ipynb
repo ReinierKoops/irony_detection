{
 "cells": [
  {
   "cell_type": "code",
   "execution_count": null,
   "metadata": {},
   "outputs": [],
   "source": [
    "'''This code uses Recursive Feature Elimination to rank features to be used in classification'''\n",
    "\n",
    "from sklearn.linear_model import LogisticRegression\n",
    "from sklearn.feature_selection import RFECV \n",
    "from sklearn import metrics\n",
    "import numpy as np"
   ]
  },
  {
   "cell_type": "code",
   "execution_count": null,
   "metadata": {},
   "outputs": [],
   "source": [
    "# loading the data \n",
    "from load import parse_dataset"
   ]
  },
  {
   "cell_type": "code",
   "execution_count": null,
   "metadata": {},
   "outputs": [],
   "source": [
    "# Experiment settings\n",
    "\n",
    "DATASET_FP = \"../datasets/train/SemEval2018-T3-train-taskA_emoji.txt\"\n",
    "\n",
    "K_FOLDS = 10 # 10-fold crossvalidation\n",
    "\n",
    "CLF = LogisticRegression() \n",
    "\n",
    "# Create recursive feature eliminator that scores features by mean squared errors\n",
    "\n",
    "from sklearn.metrics import fbeta_score, make_scorer \n",
    "f_scorer = make_scorer(fbeta_score, beta=0.9) \n",
    "\n",
    "# This RFECV is defined based on the code output of the original repository\n",
    "rfecv = RFECV(cv=10, \n",
    "              estimator=LogisticRegression(\n",
    "                  C=1.0, \n",
    "                  class_weight=None, \n",
    "                  dual=False, \n",
    "                  fit_intercept=True,\n",
    "                  intercept_scaling=1, \n",
    "                  max_iter=100, \n",
    "                  multi_class='ovr', \n",
    "                  n_jobs=1,\n",
    "                  penalty='l2', \n",
    "                  random_state=None, \n",
    "                  solver='liblinear', \n",
    "                  tol=0.0001,\n",
    "                  verbose=0, \n",
    "                  warm_start=False), \n",
    "              n_jobs=1, \n",
    "              scoring=make_scorer(fbeta_score, beta=0.9), \n",
    "              step=1, \n",
    "              verbose=0)\n",
    "# Previous, less verbose code: RFECV(estimator=CLF, step=1, scoring=f_scorer, cv=K_FOLDS)\n",
    "\n",
    "# Loading dataset \n",
    "corpus, y = parse_dataset(DATASET_FP)\n",
    "\n",
    "X = np.load(open('./train_feats_taskA.npy', 'rb'))\n",
    "\n",
    "rfecv.fit(X, y)"
   ]
  },
  {
   "cell_type": "code",
   "execution_count": null,
   "metadata": {},
   "outputs": [],
   "source": [
    "print('number of effective features:', rfecv.n_features_)\n",
    "print('ranking of features:', list(rfecv.ranking_))"
   ]
  },
  {
   "cell_type": "code",
   "execution_count": null,
   "metadata": {},
   "outputs": [],
   "source": [
    "# This part is simply to give information on what features were deemed effective \n",
    "\n",
    "feats_name = ['leftIntensity', 'rightIntensity', 'polarityDiff','contrast', \n",
    "       '<allcaps>1','<annoyed>1','<censored>1','<date>1','<elongated>1','<emphasis>1',\n",
    "       '<happy>1','<hashtag>1','<heart>1','<kiss>1','<laugh>1','<money>1','<number>1',\n",
    "       '<percent>1','<phone>1','<repeated>1','<sad>1','<shocking>1','<surprise>1','<time>1',\n",
    "       '<tong>1','<url>1','<user>1','<wink>1','<allcaps>2','<annoyed>2','<censored>2',\n",
    "       '<date>2', '<elongated>2','<emphasis>2','<happy>2','<hashtag>2','<heart>2','<kiss>2',\n",
    "          '<laugh>2','<money>2', '<number>2','<percent>2','<phone>2','<repeated>2','<sad>2',\n",
    "          '<shocking>2','<surprise>2','<time>2','<tong>2','<url>2','<user>2','<wink>2', \n",
    "          'POS1','NEG1','NEUTRAL1','POS2','NEG2','NEUTRAL2'\n",
    "              ]        \n",
    "print(\"size of feature names\", len(feats_name))\n",
    "\n",
    "good_Features = [feats_name[i] for i in range(len(feats_name)) if rfecv.ranking_[i] in [1]]\n",
    "good_Features_indices = [i for i in range(len(feats_name)) if rfecv.ranking_[i] in [1]]\n",
    "print(good_Features)\n",
    "print(good_Features_indices)"
   ]
  },
  {
   "cell_type": "code",
   "execution_count": null,
   "metadata": {},
   "outputs": [],
   "source": [
    "# save the top indices (related to the best features)\n",
    "import pickle \n",
    "with open('indices', 'wb') as fp:\n",
    "    pickle.dump(good_Features_indices, fp)"
   ]
  }
 ],
 "metadata": {
  "kernelspec": {
   "display_name": "Python 3",
   "language": "python",
   "name": "python3"
  },
  "language_info": {
   "codemirror_mode": {
    "name": "ipython",
    "version": 3
   },
   "file_extension": ".py",
   "mimetype": "text/x-python",
   "name": "python",
   "nbconvert_exporter": "python",
   "pygments_lexer": "ipython3",
   "version": "3.7.6"
  }
 },
 "nbformat": 4,
 "nbformat_minor": 4
}
