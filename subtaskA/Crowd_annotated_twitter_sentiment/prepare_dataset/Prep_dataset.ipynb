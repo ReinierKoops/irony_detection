{
 "cells": [
  {
   "cell_type": "markdown",
   "metadata": {},
   "source": [
    "# Modify dataset to format for Flair NLP"
   ]
  },
  {
   "cell_type": "code",
   "execution_count": 1,
   "metadata": {},
   "outputs": [],
   "source": [
    "import pandas as pd"
   ]
  },
  {
   "cell_type": "code",
   "execution_count": 14,
   "metadata": {},
   "outputs": [],
   "source": [
    "df = pd.read_csv('/Users/rwkoops/PycharmProjects/IR_project/subtaskA/prepare_dataset/SemEval2017-task4_english.csv')"
   ]
  },
  {
   "cell_type": "code",
   "execution_count": 16,
   "metadata": {},
   "outputs": [],
   "source": [
    "# drops last column\n",
    "#df.drop(df.columns[len(df.columns)-1], axis=1, inplace=True)"
   ]
  },
  {
   "cell_type": "code",
   "execution_count": 23,
   "metadata": {},
   "outputs": [
    {
     "data": {
      "text/plain": [
       "<bound method NDFrame.head of                 tweethash          sentiment  \\\n",
       "0      619969366986235000   __label__neutral   \n",
       "1      619971047195045000  __label__negative   \n",
       "2      619974445185302000   __label__neutral   \n",
       "3      619987808317407000  __label__positive   \n",
       "4      619994586182619000  __label__positive   \n",
       "...                   ...                ...   \n",
       "20626  681877834982232000   __label__neutral   \n",
       "20627  681879579129200000  __label__positive   \n",
       "20628  681883903259357000   __label__neutral   \n",
       "20629  681904976860327000  __label__negative   \n",
       "20630  681910549211287000   __label__neutral   \n",
       "\n",
       "                                                   tweet  \n",
       "0      Order Go Set a Watchman in store or through ou...  \n",
       "1      If these runway renovations at the airport pre...  \n",
       "2      If you could ask an onstage interview question...  \n",
       "3      A portion of book sales from our Harper Lee/Go...  \n",
       "4      Excited to read \"Go Set a Watchman\" on Tuesday...  \n",
       "...                                                  ...  \n",
       "20626  @ShaquilleHoNeal from what I think you're aski...  \n",
       "20627  Iran ranks 1st in liver surgeries, Allah bless...  \n",
       "20628  Hours before he arrived in Saudi Arabia on Tue...  \n",
       "20629  @VanityFair  Alex Kim Kardashian worth how to ...  \n",
       "20630  I guess even Pandora knows Justin Bieber is a ...  \n",
       "\n",
       "[20631 rows x 3 columns]>"
      ]
     },
     "execution_count": 23,
     "metadata": {},
     "output_type": "execute_result"
    }
   ],
   "source": [
    "df.head"
   ]
  },
  {
   "cell_type": "code",
   "execution_count": 20,
   "metadata": {},
   "outputs": [],
   "source": [
    "df.columns = ['tweethash', 'sentiment', 'tweet']"
   ]
  },
  {
   "cell_type": "code",
   "execution_count": 22,
   "metadata": {},
   "outputs": [],
   "source": [
    "df['sentiment'] = \"__label__\" + df['sentiment']"
   ]
  },
  {
   "cell_type": "code",
   "execution_count": 26,
   "metadata": {},
   "outputs": [],
   "source": [
    "df.to_csv(r'/Users/rwkoops/PycharmProjects/IR_project/subtaskA/prepare_dataset/SemEval2017-sentiment_english.csv', index = False)"
   ]
  },
  {
   "cell_type": "code",
   "execution_count": null,
   "metadata": {},
   "outputs": [],
   "source": []
  }
 ],
 "metadata": {
  "kernelspec": {
   "display_name": "Python 3",
   "language": "python",
   "name": "python3"
  },
  "language_info": {
   "codemirror_mode": {
    "name": "ipython",
    "version": 3
   },
   "file_extension": ".py",
   "mimetype": "text/x-python",
   "name": "python",
   "nbconvert_exporter": "python",
   "pygments_lexer": "ipython3",
   "version": "3.7.6"
  }
 },
 "nbformat": 4,
 "nbformat_minor": 4
}
